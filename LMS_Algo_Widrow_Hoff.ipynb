{
  "nbformat": 4,
  "nbformat_minor": 0,
  "metadata": {
    "colab": {
      "provenance": [],
      "collapsed_sections": []
    },
    "kernelspec": {
      "name": "python3",
      "display_name": "Python 3"
    },
    "language_info": {
      "name": "python"
    }
  },
  "cells": [
    {
      "cell_type": "code",
      "execution_count": 38,
      "metadata": {
        "id": "YpEvWryB7LXU",
        "colab": {
          "base_uri": "https://localhost:8080/"
        },
        "outputId": "760e630f-0ae1-4614-8011-43d4987a3884"
      },
      "outputs": [
        {
          "output_type": "stream",
          "name": "stdout",
          "text": [
            "areas: [  73  130  142  292  467  470  477  489  561  596  699  712  745  752\n",
            "  764  765  862  906  962  984  997 1043 1074 1089 1097 1119 1188 1200\n",
            " 1207 1336 1349 1400 1454 1594 1602 1661 1711 1714 1750 1823 1848 1904\n",
            " 1952 2027 2152 2176 2199 2324 2374 2449]\n",
            "\n",
            "bedrooms: [3 3 2 3 0 0 0 4 3 0 4 4 3 2 4 4 1 0 1 3 1 3 1 4 1 3 4 0 4 2 2 4 3 3 2 2 1\n",
            " 0 0 3 0 0 2 0 0 2 1 1 4 1]\n",
            "\n",
            "Gaussian Noise to be added: [  23.34666734 -108.2995978    33.97853026   89.05987833  -17.97733087\n",
            "  120.65933399  -97.42272723   71.54615456   16.25515371   28.63781762\n",
            "   19.1446741    -8.84756966  -53.58138876   35.00891014   48.50295143\n",
            " -160.16718615    2.853101     21.4367398   -26.1518223   -47.21408487\n",
            " -104.50700417   15.95582507   79.62107107  -20.17846731   -6.03754141\n",
            "   11.79158145   -3.48627819  -48.26691678  -54.02177155  -36.33442686\n",
            "  -28.57478488  -60.6398312   101.13949071   76.62181701  -11.68013434\n",
            "   74.20143617  -19.16501137   29.0200719    84.58784415    6.36604554\n",
            "  -10.33123968    4.54182507  -62.13827099  -25.33471234   34.00841871\n",
            "    9.32707973   13.68389497   31.54238423   39.0444454    57.4832638 ]\n",
            "\n",
            "Data with gaussian noise: [ 47.34666734 -65.2995978   80.97853026 186.05987833 137.02266913\n",
            " 276.65933399  61.57727277 234.54615456 203.25515371 226.63781762\n",
            " 252.1446741  228.15243034 194.41861124 285.00891014 302.50295143\n",
            "  94.83281385 289.853101   323.4367398  293.8481777  280.78591513\n",
            " 227.49299583 362.95582507 437.62107107 342.82153269 358.96245859\n",
            " 384.79158145 392.51372181 351.73308322 347.97822845 408.66557314\n",
            " 420.42521512 405.3601688  585.13949071 607.62181701 522.31986566\n",
            " 627.20143617 550.83498863 600.0200719  667.58784415 613.36604554\n",
            " 605.66876032 638.54182507 587.86172901 649.66528766 751.00841871\n",
            " 734.32707973 746.68389497 805.54238423 830.0444454  873.4832638 ]\n",
            "\n",
            "dataset: {'Living Area': array([  73,  130,  142,  292,  467,  470,  477,  489,  561,  596,  699,\n",
            "        712,  745,  752,  764,  765,  862,  906,  962,  984,  997, 1043,\n",
            "       1074, 1089, 1097, 1119, 1188, 1200, 1207, 1336, 1349, 1400, 1454,\n",
            "       1594, 1602, 1661, 1711, 1714, 1750, 1823, 1848, 1904, 1952, 2027,\n",
            "       2152, 2176, 2199, 2324, 2374, 2449]), 'Bedrooms': array([3, 3, 2, 3, 0, 0, 0, 4, 3, 0, 4, 4, 3, 2, 4, 4, 1, 0, 1, 3, 1, 3,\n",
            "       1, 4, 1, 3, 4, 0, 4, 2, 2, 4, 3, 3, 2, 2, 1, 0, 0, 3, 0, 0, 2, 0,\n",
            "       0, 2, 1, 1, 4, 1]), 'Price': array([ 47.34666734, -65.2995978 ,  80.97853026, 186.05987833,\n",
            "       137.02266913, 276.65933399,  61.57727277, 234.54615456,\n",
            "       203.25515371, 226.63781762, 252.1446741 , 228.15243034,\n",
            "       194.41861124, 285.00891014, 302.50295143,  94.83281385,\n",
            "       289.853101  , 323.4367398 , 293.8481777 , 280.78591513,\n",
            "       227.49299583, 362.95582507, 437.62107107, 342.82153269,\n",
            "       358.96245859, 384.79158145, 392.51372181, 351.73308322,\n",
            "       347.97822845, 408.66557314, 420.42521512, 405.3601688 ,\n",
            "       585.13949071, 607.62181701, 522.31986566, 627.20143617,\n",
            "       550.83498863, 600.0200719 , 667.58784415, 613.36604554,\n",
            "       605.66876032, 638.54182507, 587.86172901, 649.66528766,\n",
            "       751.00841871, 734.32707973, 746.68389497, 805.54238423,\n",
            "       830.0444454 , 873.4832638 ])}\n",
            "\n"
          ]
        }
      ],
      "source": [
        "import numpy as np\n",
        "import matplotlib.pyplot as plt\n",
        "\n",
        "SAMPLE_SIZE=50\n",
        "GAUSSIAN_NOISE_MU=0\n",
        "GAUSSIAN_NOISE_SIGMA=50\n",
        "\n",
        "areas = np.random.randint(\n",
        "    2500, \n",
        "    size=(SAMPLE_SIZE)\n",
        ")\n",
        "# Sort the areas \n",
        "areas.sort()\n",
        "print('areas: {}'.format(areas))\n",
        "print('')\n",
        "bedrooms = np.random.randint(\n",
        "    5,\n",
        "    size=(SAMPLE_SIZE)\n",
        ")\n",
        "print('bedrooms: {}'.format(bedrooms))\n",
        "print('')\n",
        "# price = np.random.randint(\n",
        "#     800,\n",
        "#     size=(20)   \n",
        "# )\n",
        "\n",
        "# Gaussian Noise\n",
        "def addGaussianNoise(mu, sigma, data):\n",
        "  noise = np.random.normal(mu, sigma, len(data))\n",
        "  print('Gaussian Noise to be added: {}'.format(noise))\n",
        "  print('')\n",
        "  data_noise = np.add(noise, data)\n",
        "  print('Data with gaussian noise: {}'.format(data_noise))\n",
        "  print('')\n",
        "  return data_noise\n",
        "\n",
        "# Define Prices \n",
        "price = areas//3\n",
        "\n",
        "# Add gaussian noise to the price dataset\n",
        "price_noise = addGaussianNoise(\n",
        "    mu=GAUSSIAN_NOISE_MU,\n",
        "    sigma=GAUSSIAN_NOISE_SIGMA,\n",
        "    data=price\n",
        ")\n",
        "\n",
        "dataset = {\n",
        "    'Living Area': areas,\n",
        "    'Bedrooms': bedrooms,\n",
        "    'Price': price_noise\n",
        "}\n",
        "print('dataset: {}'.format(dataset))\n",
        "print('')"
      ]
    },
    {
      "cell_type": "code",
      "source": [
        "# Plotting the dataset\n",
        "plt.scatter(\n",
        "    dataset['Living Area'],\n",
        "    dataset['Price'],\n",
        "    s=5\n",
        ")\n",
        "plt.show()"
      ],
      "metadata": {
        "colab": {
          "base_uri": "https://localhost:8080/",
          "height": 265
        },
        "id": "Bi6j2h3azJnu",
        "outputId": "f0fd4257-44a9-4555-cefa-b9e0329ab75a"
      },
      "execution_count": 39,
      "outputs": [
        {
          "output_type": "display_data",
          "data": {
            "text/plain": [
              "<Figure size 432x288 with 1 Axes>"
            ],
            "image/png": "[encoded data removed]"
          },
          "metadata": {
            "needs_background": "light"
          }
        }
      ]
    },
    {
      "cell_type": "code",
      "source": [],
      "metadata": {
        "id": "CfHueYcXydcR"
      },
      "execution_count": null,
      "outputs": []
    }
  ]
}