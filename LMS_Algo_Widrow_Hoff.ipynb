{
  "nbformat": 4,
  "nbformat_minor": 0,
  "metadata": {
    "colab": {
      "provenance": [],
      "collapsed_sections": []
    },
    "kernelspec": {
      "name": "python3",
      "display_name": "Python 3"
    },
    "language_info": {
      "name": "python"
    }
  },
  "cells": [
    {
      "cell_type": "code",
      "execution_count": null,
      "metadata": {
        "id": "YpEvWryB7LXU",
        "colab": {
          "base_uri": "https://localhost:8080/"
        },
        "outputId": "35f6dfab-c988-495b-b114-f0d573c8fdd0"
      },
      "outputs": [
        {
          "output_type": "stream",
          "name": "stdout",
          "text": [
            "areas: [  21   79   86  285  444  522  784  784  873  991 1129 1165 1326 1653\n",
            " 1675 1721 1914 2097 2132 2375]\n",
            "bedrooms: [1 4 2 2 0 3 1 0 3 4 3 4 2 1 2 3 0 2 0 1]\n",
            "price: [  7  26  28  95 148 174 261 261 291 330 376 388 442 551 558 573 638 699\n",
            " 710 791]\n",
            "dataset: {'Living Area': array([  21,   79,   86,  285,  444,  522,  784,  784,  873,  991, 1129,\n",
            "       1165, 1326, 1653, 1675, 1721, 1914, 2097, 2132, 2375]), 'Bedrooms': array([1, 4, 2, 2, 0, 3, 1, 0, 3, 4, 3, 4, 2, 1, 2, 3, 0, 2, 0, 1]), 'Price': array([  7,  26,  28,  95, 148, 174, 261, 261, 291, 330, 376, 388, 442,\n",
            "       551, 558, 573, 638, 699, 710, 791])}\n"
          ]
        }
      ],
      "source": [
        "import numpy as np\n",
        "import matplotlib.pyplot as plt\n",
        "\n",
        "areas = np.random.randint(\n",
        "    2500, \n",
        "    size=(20)\n",
        ")\n",
        "# Sort the areas \n",
        "areas.sort()\n",
        "print('areas: {}'.format(areas))\n",
        "bedrooms = np.random.randint(\n",
        "    5,\n",
        "    size=(20)\n",
        ")\n",
        "print('bedrooms: {}'.format(bedrooms))\n",
        "# price = np.random.randint(\n",
        "#     800,\n",
        "#     size=(20)   \n",
        "# )\n",
        "price = areas//3\n",
        "print('price: {}'.format(price))\n",
        "dataset = {\n",
        "    'Living Area': areas,\n",
        "    'Bedrooms': bedrooms,\n",
        "    'Price': price\n",
        "}\n",
        "print('dataset: {}'.format(dataset))"
      ]
    },
    {
      "cell_type": "code",
      "source": [
        "# Plotting the dataset\n",
        "plt.plot(areas, price)\n",
        "plt.show()"
      ],
      "metadata": {
        "colab": {
          "base_uri": "https://localhost:8080/",
          "height": 265
        },
        "id": "Bi6j2h3azJnu",
        "outputId": "dca9878d-416a-42b8-c265-b517767388d9"
      },
      "execution_count": null,
      "outputs": [
        {
          "output_type": "display_data",
          "data": {
            "text/plain": [
              "<Figure size 432x288 with 1 Axes>"
            ],
            "image/png": "[encoded data removed]"
          },
          "metadata": {
            "needs_background": "light"
          }
        }
      ]
    },
    {
      "cell_type": "code",
      "source": [],
      "metadata": {
        "id": "CfHueYcXydcR"
      },
      "execution_count": null,
      "outputs": []
    }
  ]
}