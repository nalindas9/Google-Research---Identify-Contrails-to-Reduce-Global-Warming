{
  "nbformat": 4,
  "nbformat_minor": 0,
  "metadata": {
    "colab": {
      "provenance": [],
      "collapsed_sections": []
    },
    "kernelspec": {
      "name": "python3",
      "display_name": "Python 3"
    },
    "language_info": {
      "name": "python"
    }
  },
  "cells": [
    {
      "cell_type": "code",
      "execution_count": 16,
      "metadata": {
        "id": "YpEvWryB7LXU"
      },
      "outputs": [],
      "source": [
        "import numpy as np\n",
        "import matplotlib.pyplot as plt\n",
        "\n",
        "# Hyperparameters\n",
        "SAMPLE_SIZE = 50\n",
        "GAUSSIAN_NOISE_MU = 0\n",
        "GAUSSIAN_NOISE_SIGMA = 50\n",
        "NUM_INPUT_FEATURES = 1\n",
        "ALPHA = 0.4\n",
        "\n",
        "areas = np.random.randint(\n",
        "    2500, \n",
        "    size=(SAMPLE_SIZE)\n",
        ")\n",
        "# Sort the areas \n",
        "areas.sort()\n",
        "# print('areas: {}'.format(areas))\n",
        "# print('')\n",
        "bedrooms = np.random.randint(\n",
        "    5,\n",
        "    size=(SAMPLE_SIZE)\n",
        ")\n",
        "# print('bedrooms: {}'.format(bedrooms))\n",
        "# print('')\n",
        "# price = np.random.randint(\n",
        "#     800,\n",
        "#     size=(20)   \n",
        "# )\n",
        "\n",
        "# Gaussian Noise\n",
        "def addGaussianNoise(mu, sigma, data):\n",
        "  noise = np.random.normal(mu, sigma, len(data))\n",
        "  #print('Gaussian Noise to be added: {}'.format(noise))\n",
        "  #print('')\n",
        "  data_noise = np.add(noise, data)\n",
        "  #print('Data with gaussian noise: {}'.format(data_noise))\n",
        "  #print('')\n",
        "  return data_noise\n",
        "\n",
        "# Define Prices \n",
        "price = areas//3\n",
        "\n",
        "# Add gaussian noise to the price dataset\n",
        "price_noise = addGaussianNoise(\n",
        "    mu=GAUSSIAN_NOISE_MU,\n",
        "    sigma=GAUSSIAN_NOISE_SIGMA,\n",
        "    data=price\n",
        ")\n",
        "\n",
        "dataset = {\n",
        "    'Living Area': areas,\n",
        "    'Bedrooms': bedrooms,\n",
        "    'Price': price_noise\n",
        "}\n",
        "#print('dataset: {}'.format(dataset))\n",
        "#print('')"
      ]
    },
    {
      "cell_type": "code",
      "source": [
        "# Plotting the dataset\n",
        "plt.scatter(\n",
        "    dataset['Living Area'],\n",
        "    dataset['Price'],\n",
        "    s=5\n",
        ")\n",
        "# Add labels\n",
        "plt.xlabel('Living Area')\n",
        "plt.ylabel('Price')\n",
        "plt.show()"
      ],
      "metadata": {
        "colab": {
          "base_uri": "https://localhost:8080/",
          "height": 279
        },
        "id": "Bi6j2h3azJnu",
        "outputId": "ff7bbee1-b560-4cd9-bfae-c7e08556b8d4"
      },
      "execution_count": 17,
      "outputs": [
        {
          "output_type": "display_data",
          "data": {
            "text/plain": [
              "<Figure size 432x288 with 1 Axes>"
            ],
            "image/png": "[encoded data removed]"
          },
          "metadata": {
            "needs_background": "light"
          }
        }
      ]
    },
    {
      "cell_type": "code",
      "source": [
        "# Training set for n samples\n",
        "x, y = dataset['Living Area'], dataset['Price']\n",
        "print('Training set [x:{}, y:{}] '.format(x, y))\n",
        "print('')\n",
        "print('Sample Size: {}'.format(len(x)))"
      ],
      "metadata": {
        "id": "CfHueYcXydcR",
        "colab": {
          "base_uri": "https://localhost:8080/"
        },
        "outputId": "d1bf0af6-f676-4bf1-86a3-d9746d374c57"
      },
      "execution_count": 18,
      "outputs": [
        {
          "output_type": "stream",
          "name": "stdout",
          "text": [
            "Training set [x:[  29  175  223  234  270  284  331  336  397  647  657  759  807  817\n",
            "  836  943  974  992 1018 1055 1062 1095 1104 1108 1157 1256 1273 1371\n",
            " 1378 1470 1558 1632 1680 1729 1776 1789 1816 1848 1911 1931 1938 2067\n",
            " 2072 2083 2153 2258 2311 2317 2318 2365], y:[ 89.19834968   9.68776037 115.25980626  58.27968127 101.92608292\n",
            " 166.41264723 219.44138449 107.61499623  83.75137518 210.04724209\n",
            " 240.76433416 268.70152761 234.37259991 335.67704763 284.90798044\n",
            " 445.70261344 326.1900754  239.13708481 289.62007449 334.47460441\n",
            " 391.60551564 252.9355619  429.16139356 501.07401776 375.77546003\n",
            " 318.05031316 372.50717529 433.79348301 439.92869391 494.45935737\n",
            " 570.95769633 522.32413266 624.63432857 490.81417998 570.43771957\n",
            " 503.1770895  729.8418188  650.79522867 695.1051088  607.4581569\n",
            " 720.07016699 690.29546161 682.61730296 772.8470409  634.85763608\n",
            " 834.32525369 801.50434057 803.85897578 676.13009212 778.95373174]] \n",
            "\n",
            "Sample Size: 50\n"
          ]
        }
      ]
    },
    {
      "cell_type": "code",
      "source": [
        "# Initialize weight vector\n",
        "w = np.random.rand(2)\n",
        "print('w: {}'.format(w))\n",
        "\n",
        "# Current approximation\n",
        "# of y as a linear function of x\n",
        "def linearFunc(x):\n",
        "  return w[1]*x + w[0]\n",
        "\n",
        "# Plotting current hw(x)\n",
        "# with initialized weight vector\n",
        "hw_x = [linearFunc(x) for x in dataset['Living Area']]\n",
        "print('hw_x: {}'.format(hw_x))\n",
        "print('')\n",
        "plt.plot(\n",
        "    dataset['Living Area'],\n",
        "    hw_x\n",
        ")\n",
        "plt.scatter(\n",
        "    dataset['Living Area'],\n",
        "    dataset['Price'],\n",
        "    s=5\n",
        ")\n",
        "# Add labels\n",
        "plt.xlabel('Living Area')\n",
        "plt.ylabel('Price')\n",
        "plt.title('With Initialized Weight Vector')\n",
        "plt.show()\n",
        "\n",
        "# Gradient function\n",
        "#def gradient(w, x, y):\n",
        "  # Assuming x and y are \n",
        "  # for single training example\n",
        "  # Cost function\n",
        "  # hw_x = w[0] + w[1]*x\n",
        "  # grad = (hw_x - y)*x\n",
        "  # print('gradient: {}'.format(grad))\n",
        "\n",
        "#gradient(w, x[1], y[1])\n",
        "\n",
        "# # Weight update function\n",
        "#def updateWeights(w, x, y, lr):\n",
        "  # \n",
        "\n",
        "# Gradient Descent\n",
        "\n"
      ],
      "metadata": {
        "colab": {
          "base_uri": "https://localhost:8080/",
          "height": 367
        },
        "id": "BdtcFMc2B31q",
        "outputId": "eeee38e3-4695-4382-98b2-5fc253691898"
      },
      "execution_count": 19,
      "outputs": [
        {
          "output_type": "stream",
          "name": "stdout",
          "text": [
            "w: [0.34017513 0.10345758]\n",
            "hw_x: [3.340444928358111, 18.445251479800948, 23.411215277535582, 24.54924864784977, 28.273721496150742, 29.722127603823346, 34.58463382243851, 35.10192171803587, 41.41283404432363, 67.27722882419151, 68.31180461538622, 78.86447768557231, 83.83044148330694, 84.86501727450167, 86.83071127777163, 97.90067224355508, 101.10785719625869, 102.97009362040917, 105.65999067751544, 109.48792110493588, 110.21212415877218, 113.62622426971474, 114.55734248178999, 114.97117279826787, 120.04059417512198, 130.28289450794966, 132.04167335298067, 142.18051610668888, 142.9047191605252, 152.42281643951657, 161.52708340203006, 169.18294425687094, 174.14890805460558, 179.2183294314597, 184.08083565007485, 185.42578417862796, 188.2191388148537, 191.5297813466768, 198.0476088312035, 200.1167604135929, 200.84096346742922, 214.18699117384105, 214.7042790694384, 215.8423124397526, 223.0843429781156, 233.9473887856601, 239.4306404789921, 240.05138595370892, 240.1548435328284, 245.01734975144356]\n",
            "\n"
          ]
        },
        {
          "output_type": "display_data",
          "data": {
            "text/plain": [
              "<Figure size 432x288 with 1 Axes>"
            ],
            "image/png": "[encoded data removed]"
          },
          "metadata": {
            "needs_background": "light"
          }
        }
      ]
    },
    {
      "cell_type": "code",
      "source": [],
      "metadata": {
        "id": "BLpPzmq2DK0C"
      },
      "execution_count": 13,
      "outputs": []
    }
  ]
}